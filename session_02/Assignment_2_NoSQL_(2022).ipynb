{
  "nbformat": 4,
  "nbformat_minor": 0,
  "metadata": {
    "colab": {
      "name": "Assignment_2_NoSQL (2022).ipynb",
      "provenance": [],
      "collapsed_sections": []
    },
    "kernelspec": {
      "name": "python3",
      "display_name": "Python 3"
    }
  },
  "cells": [
    {
      "cell_type": "markdown",
      "metadata": {
        "id": "zKeSLbAURqGy"
      },
      "source": [
        "## Install Dependencies\n",
        "\n",
        "Reference: \n",
        "* [Google Cloud Firestore Docs](https://cloud.google.com/firestore/docs/how-to)\n",
        "* [Google Cloud Firestore Pypi](https://pypi.org/project/google-cloud-firestore/)\n"
      ]
    },
    {
      "cell_type": "code",
      "metadata": {
        "id": "aLmkt6fkMwig"
      },
      "source": [
        "!pip install google-cloud-firestore"
      ],
      "execution_count": null,
      "outputs": []
    },
    {
      "cell_type": "markdown",
      "metadata": {
        "id": "NG84VlusSHEK"
      },
      "source": [
        "## Import Python Libraries"
      ]
    },
    {
      "cell_type": "code",
      "metadata": {
        "id": "QZGVjSuXNnAv"
      },
      "source": [
        "from google.cloud import firestore\n",
        "import json\n",
        "import os, re"
      ],
      "execution_count": null,
      "outputs": []
    },
    {
      "cell_type": "markdown",
      "metadata": {
        "id": "LN7uJ2Y1sB4i"
      },
      "source": [
        "## Set Environment Variable\n",
        "\n",
        "You can down the file called **iaa_firestore_sa.json** from Moodle. If you cannot find it for any reason, shoot me an email at d.zaratsian@gmail.com and I'll provide it."
      ]
    },
    {
      "cell_type": "code",
      "metadata": {
        "id": "tW3Wy3rksA-E"
      },
      "source": [
        "# Set the environment variable for Google Cloud Firestore.\n",
        "# You can down the file called iaa_firestore_sa.json from Moodle. \n",
        "# If you cannot find it for any reason, shoot me an email \n",
        "# at d.zaratsian@gmail.com and I'll provide it.\n",
        "\n",
        "# This is a service account that allows read/write access to Google Firestore.\n",
        "os.environ[\"GOOGLE_APPLICATION_CREDENTIALS\"]=\"iaa_firestore_sa.json\""
      ],
      "execution_count": null,
      "outputs": []
    },
    {
      "cell_type": "code",
      "metadata": {
        "id": "_gkf0J5hS0cf"
      },
      "source": [
        "# Connect to Google Cloud Firestore and create the db object.\n",
        "# If this errors out, then it is most likely an authentication issue. \n",
        "# Make sure you have set the environment variable with the provided service account file, iaa_firestore_sa.json service account. (as shown above)\n",
        "\n",
        "db = firestore.Client()"
      ],
      "execution_count": null,
      "outputs": []
    },
    {
      "cell_type": "code",
      "metadata": {
        "id": "qCOItRqPTqWR"
      },
      "source": [
        "# Specify Firestore Params\n",
        "\n",
        "collection_id = 'iaa_2022'"
      ],
      "execution_count": null,
      "outputs": []
    },
    {
      "cell_type": "markdown",
      "metadata": {
        "id": "cIcbvtmGSuJe"
      },
      "source": [
        "## Read from Google Cloud Firestore\n",
        "\n",
        "Use the framework below, along with code that you add, to read a record from Google Cloud Firestore.\n",
        "\n",
        "**Instructions:**\n",
        "\n",
        "1. Read a record/document from Google Cloud Firestore. The record/document is located at a Collection called \"iaa_2022\" and the record/document name is called \"dan_zaratsian\". \n",
        "\n",
        "2. Copy that record/document into a variable called \"test_record\". (Or you can name the variable something else if you prefer)."
      ]
    },
    {
      "cell_type": "code",
      "metadata": {
        "id": "L39Gk4FoSx0h"
      },
      "source": [
        "# Code to read a record/document from Firestore\n",
        "\n",
        "doc_id = 'dan_zaratsian'\n",
        "\n",
        "fs_obj = db.collection(collection_id).document(doc_id)\n",
        "\n",
        "'''\n",
        "Add code here to read the record/document from the 'iaa_2022' collection with document id 'dan_zaratsian'\n",
        "\n",
        "Place the results in a variable called \"test_record\"\n",
        "'''\n"
      ],
      "execution_count": null,
      "outputs": []
    },
    {
      "cell_type": "code",
      "metadata": {
        "id": "fTHFJ9gu9DZO"
      },
      "source": [
        "# Print the test_record that was read from Google Firestore\n",
        "print(test_record)"
      ],
      "execution_count": null,
      "outputs": []
    },
    {
      "cell_type": "markdown",
      "metadata": {
        "id": "XI6-le0cSkcK"
      },
      "source": [
        "## Write to Google Cloud Firestore\n",
        "\n",
        "Use the framework below, along with your own code, to write a record to Google Cloud Firestore.\n",
        "\n",
        "**Instructions:**\n",
        "\n",
        "1. The \"test_record\" variable that you created in the previous step should be a json payload. I want you to add a new key-value field to the test_record. You can name the key whatever you want and the value(s) can also be whatever you choose.  \n",
        "\n",
        "2. Write the modified \"test_record\" json payload back to the Firestore database. Use the collection ID \"iaa_2022\" and the document id should be your name. You can use the code framework, shown below, as a guide. "
      ]
    },
    {
      "cell_type": "code",
      "metadata": {
        "id": "mOz2AFQh9a9q"
      },
      "source": [
        "# Add a new key-value field to the test_record. \n",
        "test_record['my_new_key'] = 'my_test_value'"
      ],
      "execution_count": null,
      "outputs": []
    },
    {
      "cell_type": "code",
      "metadata": {
        "id": "1WymbQ_OOA6R"
      },
      "source": [
        "# Code to write a record/document to Firestore\n",
        "\n",
        "your_doc_id = 'Your Name Here'\n",
        "\n",
        "fs_obj = db.collection(collection_id).document(your_doc_id)\n",
        "\n",
        "''' \n",
        "Add code here to write the updated test_record into the Firestore database.\n",
        "'''\n",
        "\n",
        "# NOTE: You should also be able to read the record that you sent to Firestore (just to confirm it worked)"
      ],
      "execution_count": null,
      "outputs": []
    },
    {
      "cell_type": "code",
      "source": [
        ""
      ],
      "metadata": {
        "id": "r-hqmmnbhGKr"
      },
      "execution_count": null,
      "outputs": []
    }
  ]
}