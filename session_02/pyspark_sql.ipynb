{
  "nbformat": 4,
  "nbformat_minor": 0,
  "metadata": {
    "colab": {
      "name": "pyspark_sql.ipynb",
      "provenance": [],
      "toc_visible": true
    },
    "kernelspec": {
      "name": "python3",
      "display_name": "Python 3"
    }
  },
  "cells": [
    {
      "cell_type": "markdown",
      "metadata": {
        "id": "5-7vRh7EGS30"
      },
      "source": [
        "## **PySpark SQL - Getting Started Notebook**\n",
        "This notebook provides an example for installing spark dependencies and a simple \"getting started\" syntax for PySpark SQL.\n",
        "\n",
        "NOTE: This notebook is designed to be used with Google's Colab notebook and the Python 3 runtime."
      ]
    },
    {
      "cell_type": "markdown",
      "metadata": {
        "id": "aZ24BRz6FMwN"
      },
      "source": [
        "## **Install Spark Dependencies**\n",
        "\n"
      ]
    },
    {
      "cell_type": "code",
      "metadata": {
        "id": "upqpisH2IoMy"
      },
      "source": [
        "# Install Spark dependencies\n",
        "!apt-get install openjdk-8-jdk-headless -qq > /dev/null\n",
        "!rm spark-3.1.1-bin-hadoop3.2.tgz\n",
        "!wget --no-cookies --no-check-certificate https://apache.claz.org/spark/spark-3.1.1/spark-3.1.1-bin-hadoop3.2.tgz\n",
        "!tar zxvf spark-3.1.1-bin-hadoop3.2.tgz\n",
        "!pip install -q findspark\n",
        "!pip install pyspark"
      ],
      "execution_count": null,
      "outputs": []
    },
    {
      "cell_type": "code",
      "metadata": {
        "id": "X2xvv-QnsQZs",
        "colab": {
          "base_uri": "https://localhost:8080/"
        },
        "outputId": "08be6f19-d3d0-4e03-ce41-28e3dc44eef0"
      },
      "source": [
        "!ls -al | grep spark"
      ],
      "execution_count": 11,
      "outputs": [
        {
          "output_type": "stream",
          "text": [
            "drwxr-xr-x 13 1000 1000      4096 Feb 22 02:11 spark-3.1.1-bin-hadoop3.2\n",
            "-rw-r--r--  1 root root 228721937 Feb 22 02:45 spark-3.1.1-bin-hadoop3.2.tgz\n"
          ],
          "name": "stdout"
        }
      ]
    },
    {
      "cell_type": "markdown",
      "metadata": {
        "id": "3NgWpb22FchD"
      },
      "source": [
        "## **Set env variables within Pyspark**"
      ]
    },
    {
      "cell_type": "code",
      "metadata": {
        "id": "I47MHeUcyH1j"
      },
      "source": [
        "# Set up required environment variables\n",
        "import os\n",
        "os.environ[\"JAVA_HOME\"]  = \"/usr/lib/jvm/java-8-openjdk-amd64\"\n",
        "os.environ[\"SPARK_HOME\"] = \"/content/spark-3.1.1-bin-hadoop3.2\""
      ],
      "execution_count": 12,
      "outputs": []
    },
    {
      "cell_type": "markdown",
      "metadata": {
        "id": "6wa2iydLFsWW"
      },
      "source": [
        "## **Download Data**"
      ]
    },
    {
      "cell_type": "code",
      "metadata": {
        "id": "rYe4U8Jnx39a",
        "colab": {
          "base_uri": "https://localhost:8080/"
        },
        "outputId": "ea260c16-c551-4f46-cf29-ee9563ac4fd6"
      },
      "source": [
        "!wget https://raw.githubusercontent.com/zaratsian/iaa_2021/main/session_02/bikeshare_station_info.csv\n",
        "!wget https://raw.githubusercontent.com/zaratsian/iaa_2021/main/session_02/bikeshare_trips.csv"
      ],
      "execution_count": 13,
      "outputs": [
        {
          "output_type": "stream",
          "text": [
            "--2021-03-20 13:32:00--  https://raw.githubusercontent.com/zaratsian/iaa_2021/main/session_02/bikeshare_station_info.csv\n",
            "Resolving raw.githubusercontent.com (raw.githubusercontent.com)... 185.199.111.133, 185.199.108.133, 185.199.110.133, ...\n",
            "Connecting to raw.githubusercontent.com (raw.githubusercontent.com)|185.199.111.133|:443... connected.\n",
            "HTTP request sent, awaiting response... 200 OK\n",
            "Length: 80415 (79K) [text/plain]\n",
            "Saving to: ‘bikeshare_station_info.csv.1’\n",
            "\n",
            "\r          bikeshare   0%[                    ]       0  --.-KB/s               \rbikeshare_station_i 100%[===================>]  78.53K  --.-KB/s    in 0.009s  \n",
            "\n",
            "2021-03-20 13:32:00 (8.65 MB/s) - ‘bikeshare_station_info.csv.1’ saved [80415/80415]\n",
            "\n",
            "--2021-03-20 13:32:00--  https://raw.githubusercontent.com/zaratsian/iaa_2021/main/session_02/bikeshare_trips.csv\n",
            "Resolving raw.githubusercontent.com (raw.githubusercontent.com)... 185.199.108.133, 185.199.109.133, 185.199.110.133, ...\n",
            "Connecting to raw.githubusercontent.com (raw.githubusercontent.com)|185.199.108.133|:443... connected.\n",
            "HTTP request sent, awaiting response... 200 OK\n",
            "Length: 4482620 (4.3M) [text/plain]\n",
            "Saving to: ‘bikeshare_trips.csv.1’\n",
            "\n",
            "bikeshare_trips.csv 100%[===================>]   4.27M  --.-KB/s    in 0.1s    \n",
            "\n",
            "2021-03-20 13:32:01 (35.2 MB/s) - ‘bikeshare_trips.csv.1’ saved [4482620/4482620]\n",
            "\n"
          ],
          "name": "stdout"
        }
      ]
    },
    {
      "cell_type": "markdown",
      "metadata": {
        "id": "lvMtRJwUFzie"
      },
      "source": [
        "## **Import Python and PySpark Libraries**"
      ]
    },
    {
      "cell_type": "code",
      "metadata": {
        "id": "2-SIpC_-aw0t"
      },
      "source": [
        "import datetime\n",
        "from pyspark import SparkContext\n",
        "from pyspark.sql import SparkSession\n",
        "from pyspark.sql.types import *\n",
        "from pyspark.sql.functions import monotonically_increasing_id, col, expr, when, concat, lit, udf, split\n",
        "from pyspark.ml.linalg import Vectors\n",
        "from pyspark.ml.regression import GBTRegressor, LinearRegression, GeneralizedLinearRegression\n",
        "from pyspark.ml.classification import GBTClassifier\n",
        "from pyspark.ml.feature import VectorIndexer, VectorAssembler, StringIndexer\n",
        "from pyspark.ml.evaluation import RegressionEvaluator\n",
        "from pyspark.ml import Pipeline\n",
        "from pyspark.ml.evaluation import MulticlassClassificationEvaluator"
      ],
      "execution_count": 14,
      "outputs": []
    },
    {
      "cell_type": "markdown",
      "metadata": {
        "id": "XyT917EuF7Pv"
      },
      "source": [
        "## **Initialize Spark Session**"
      ]
    },
    {
      "cell_type": "code",
      "metadata": {
        "id": "niAz2S672M_m"
      },
      "source": [
        "spark = SparkSession.builder.appName(\"Bikesharing SparkSQL\").master(\"local[*]\").getOrCreate()"
      ],
      "execution_count": 15,
      "outputs": []
    },
    {
      "cell_type": "markdown",
      "metadata": {
        "id": "hL4NPf_ZF_OF"
      },
      "source": [
        "## **Read CSV into Spark**"
      ]
    },
    {
      "cell_type": "code",
      "metadata": {
        "id": "hC6C3wKwyBbt"
      },
      "source": [
        "bikeshare_trips = spark.read.load('bikeshare_trips.csv', format=\"csv\", header=True, inferSchema=True)"
      ],
      "execution_count": 16,
      "outputs": []
    },
    {
      "cell_type": "markdown",
      "metadata": {
        "id": "Nqf2c9xOGFDb"
      },
      "source": [
        "## **Display first few records**"
      ]
    },
    {
      "cell_type": "code",
      "metadata": {
        "id": "Deym0a0pyNNu",
        "colab": {
          "base_uri": "https://localhost:8080/"
        },
        "outputId": "ccbfab42-d712-462a-b429-0937b2ebe565"
      },
      "source": [
        "bikeshare_trips.show(5, truncate=False)"
      ],
      "execution_count": 17,
      "outputs": [
        {
          "output_type": "stream",
          "text": [
            "+--------------------+------------+-----------------------+-----------------------+----------------+-----------------------+--------------------+--------------+-----------+--------+---------------+-------------------+----------------------+-----------------------+--------------------+---------------------+-----------------+-------------+-----------------------+------------------------------+----------------------------+\n",
            "|trip_id             |duration_sec|start_date             |start_station_name     |start_station_id|end_date               |end_station_name    |end_station_id|bike_number|zip_code|subscriber_type|c_subscription_type|start_station_latitude|start_station_longitude|end_station_latitude|end_station_longitude|member_birth_year|member_gender|bike_share_for_all_trip|start_station_geom            |end_station_geom            |\n",
            "+--------------------+------------+-----------------------+-----------------------+----------------+-----------------------+--------------------+--------------+-----------+--------+---------------+-------------------+----------------------+-----------------------+--------------------+---------------------+-----------------+-------------+-----------------------+------------------------------+----------------------------+\n",
            "|27532018040507244800|486         |2018-04-05 07:24:48 UTC|Dolores St at 15th St  |96              |2018-04-05 07:32:55 UTC|Market St at 10th St|58            |2753       |null    |Subscriber     |Subscriber         |37.7662102            |-122.4266136           |37.776619           |-122.417385          |1987             |Male         |No                     |POINT(-122.4266136 37.7662102)|POINT(-122.417385 37.776619)|\n",
            "|12782018040418233700|283         |2018-04-04 18:23:37 UTC|Market St at Dolores St|86              |2018-04-04 18:28:21 UTC|Market St at 10th St|58            |1278       |null    |Subscriber     |Subscriber         |37.7693053            |-122.4268256           |37.776619           |-122.417385          |1980             |Male         |No                     |POINT(-122.4268256 37.7693053)|POINT(-122.417385 37.776619)|\n",
            "|32602018040410205100|402         |2018-04-04 10:20:51 UTC|Church St at Duboce Ave|85              |2018-04-04 10:27:34 UTC|Market St at 10th St|58            |3260       |null    |Subscriber     |Subscriber         |37.7700831            |-122.4291557           |37.776619           |-122.417385          |null             |null         |No                     |POINT(-122.4291557 37.7700831)|POINT(-122.417385 37.776619)|\n",
            "|7062018040410051100 |629         |2018-04-04 10:05:11 UTC|Grove St at Divisadero |53              |2018-04-04 10:15:41 UTC|Market St at 10th St|58            |706        |null    |Customer       |Customer           |37.775946             |-122.4377775           |37.776619           |-122.417385          |null             |null         |No                     |POINT(-122.4377775 37.775946) |POINT(-122.417385 37.776619)|\n",
            "|26132018040409030100|853         |2018-04-04 09:03:01 UTC|1st St at Folsom St    |26              |2018-04-04 09:17:14 UTC|Market St at 10th St|58            |2613       |null    |Subscriber     |Subscriber         |37.78729              |-122.39438             |37.776619           |-122.417385          |1989             |Male         |No                     |POINT(-122.39438 37.78729)    |POINT(-122.417385 37.776619)|\n",
            "+--------------------+------------+-----------------------+-----------------------+----------------+-----------------------+--------------------+--------------+-----------+--------+---------------+-------------------+----------------------+-----------------------+--------------------+---------------------+-----------------+-------------+-----------------------+------------------------------+----------------------------+\n",
            "only showing top 5 rows\n",
            "\n"
          ],
          "name": "stdout"
        }
      ]
    },
    {
      "cell_type": "markdown",
      "metadata": {
        "id": "N_v2cyCFGMn1"
      },
      "source": [
        "## **Execute Sample SparkSQL query**"
      ]
    },
    {
      "cell_type": "code",
      "metadata": {
        "id": "TPheTgdLyddA",
        "colab": {
          "base_uri": "https://localhost:8080/"
        },
        "outputId": "a3b95ea4-3626-4c98-dab2-c24e601bcdac"
      },
      "source": [
        "bikeshare_trips.createOrReplaceTempView(\"bikeshare_trips\")\n",
        "spark.sql(\"SELECT subscriber_type, count(*) as count FROM bikeshare_trips group by subscriber_type order by count desc\").show(truncate=False)"
      ],
      "execution_count": 18,
      "outputs": [
        {
          "output_type": "stream",
          "text": [
            "+---------------+-----+\n",
            "|subscriber_type|count|\n",
            "+---------------+-----+\n",
            "|Subscriber     |13685|\n",
            "|Customer       |2315 |\n",
            "+---------------+-----+\n",
            "\n"
          ],
          "name": "stdout"
        }
      ]
    }
  ]
}